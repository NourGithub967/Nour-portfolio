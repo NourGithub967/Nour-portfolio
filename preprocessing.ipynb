{
 "cells": [
  {
   "cell_type": "markdown",
   "id": "0173df05",
   "metadata": {},
   "source": [
    "# import libraries"
   ]
  },
  {
   "cell_type": "code",
   "execution_count": 110,
   "id": "18b504fe",
   "metadata": {},
   "outputs": [],
   "source": [
    "import pandas as pd\n",
    "import numpy as np\n",
    "import matplotlib.pyplot as plt\n",
    "import random\n",
    "from sklearn.metrics import classification_report, confusion_matrix, roc_curve, mean_squared_error, accuracy_score, recall_score, precision_score, f1_score\n",
    "from sklearn.metrics import roc_auc_score, mean_absolute_error, make_scorer\n",
    "from sklearn.model_selection import cross_val_score, train_test_split, KFold, RandomizedSearchCV, GridSearchCV\n",
    "from sklearn.linear_model import Lasso\n",
    "from sklearn.tree import DecisionTreeClassifier\n",
    "from sklearn.preprocessing import OneHotEncoder\n",
    "from sklearn.compose import make_column_transformer\n",
    "from sklearn.ensemble import GradientBoostingClassifier\n",
    "from pipetorch import DFrame\n",
    "from sklearn.svm import SVC, SVR, LinearSVC\n",
    "from sklearn.linear_model import LinearRegression, LogisticRegression\n",
    "from sklearn.neighbors import KNeighborsClassifier\n",
    "from math import sqrt\n",
    "from scipy import stats\n",
    "from seaborn import load_dataset, pairplot\n",
    "from sklearn import tree\n",
    "from sklearn.ensemble import RandomForestRegressor, RandomForestClassifier\n",
    "from pipetorch.evaluate.study import Study, optuna\n",
    "import time\n",
    "from datetime import datetime, timezone\n",
    "from sklearn.linear_model import Ridge\n"
   ]
  },
  {
   "cell_type": "markdown",
   "id": "fd61de2f",
   "metadata": {},
   "source": [
    "# data inladen"
   ]
  },
  {
   "cell_type": "code",
   "execution_count": 111,
   "id": "32984028",
   "metadata": {},
   "outputs": [
    {
     "name": "stdout",
     "output_type": "stream",
     "text": [
      "001.xlsx  019.xlsx  037.xlsx  055.xlsx\t073.xlsx  091.xlsx  109.xlsx\r\n",
      "002.xlsx  020.xlsx  038.xlsx  056.xlsx\t074.xlsx  092.xlsx  110.xlsx\r\n",
      "003.xlsx  021.xlsx  039.xlsx  057.xlsx\t075.xlsx  093.xlsx  111.xlsx\r\n",
      "004.xlsx  022.xlsx  040.xlsx  058.xlsx\t076.xlsx  094.xlsx  112.xlsx\r\n",
      "005.xlsx  023.xlsx  041.xlsx  059.xlsx\t077.xlsx  095.xlsx  113.xlsx\r\n",
      "006.xlsx  024.xlsx  042.xlsx  060.xlsx\t078.xlsx  096.xlsx  114.xlsx\r\n",
      "007.xlsx  025.xlsx  043.xlsx  061.xlsx\t079.xlsx  097.xlsx  115.xlsx\r\n",
      "008.xlsx  026.xlsx  044.xlsx  062.xlsx\t080.xlsx  098.xlsx  116.xlsx\r\n",
      "009.xlsx  027.xlsx  045.xlsx  063.xlsx\t081.xlsx  099.xlsx  117.xlsx\r\n",
      "010.xlsx  028.xlsx  046.xlsx  064.xlsx\t082.xlsx  100.xlsx  118.xlsx\r\n",
      "011.xlsx  029.xlsx  047.xlsx  065.xlsx\t083.xlsx  101.xlsx  119.xlsx\r\n",
      "012.xlsx  030.xlsx  048.xlsx  066.xlsx\t084.xlsx  102.xlsx  120.xlsx\r\n",
      "013.xlsx  031.xlsx  049.xlsx  067.xlsx\t085.xlsx  103.xlsx  unit_list.xlsx\r\n",
      "014.xlsx  032.xlsx  050.xlsx  068.xlsx\t086.xlsx  104.xlsx\r\n",
      "015.xlsx  033.xlsx  051.xlsx  069.xlsx\t087.xlsx  105.xlsx\r\n",
      "016.xlsx  034.xlsx  052.xlsx  070.xlsx\t088.xlsx  106.xlsx\r\n",
      "017.xlsx  035.xlsx  053.xlsx  071.xlsx\t089.xlsx  107.xlsx\r\n",
      "018.xlsx  036.xlsx  054.xlsx  072.xlsx\t090.xlsx  108.xlsx\r\n"
     ]
    }
   ],
   "source": [
    "!ls /data/energie"
   ]
  },
  {
   "cell_type": "markdown",
   "id": "c5a4307c",
   "metadata": {},
   "source": [
    "Wij willen de data van smartmeter en solar hebben. In elke dataset zijn er verschillende tabbladen. Wij moeten de sheetname bepalen tijdens het inladen van de huisjes."
   ]
  },
  {
   "cell_type": "code",
   "execution_count": 162,
   "id": "e379a367",
   "metadata": {},
   "outputs": [],
   "source": [
    "data1= pd.read_excel('/data/energie/001.xlsx', sheet_name='smartMeter')\n",
    "data2= pd.read_excel('/data/energie/001.xlsx', sheet_name='solar')"
   ]
  },
  {
   "cell_type": "markdown",
   "id": "e6a99913",
   "metadata": {},
   "source": [
    "van timestamp een datum maken"
   ]
  },
  {
   "cell_type": "code",
   "execution_count": 163,
   "id": "90223d9f",
   "metadata": {},
   "outputs": [
    {
     "data": {
      "text/html": [
       "<div>\n",
       "<style scoped>\n",
       "    .dataframe tbody tr th:only-of-type {\n",
       "        vertical-align: middle;\n",
       "    }\n",
       "\n",
       "    .dataframe tbody tr th {\n",
       "        vertical-align: top;\n",
       "    }\n",
       "\n",
       "    .dataframe thead th {\n",
       "        text-align: right;\n",
       "    }\n",
       "</style>\n",
       "<table border=\"1\" class=\"dataframe\">\n",
       "  <thead>\n",
       "    <tr style=\"text-align: right;\">\n",
       "      <th></th>\n",
       "      <th>Timestamp</th>\n",
       "      <th>energy_in_low</th>\n",
       "      <th>energy_in_norm</th>\n",
       "      <th>energy_out_low</th>\n",
       "      <th>energy_out_norm</th>\n",
       "      <th>power</th>\n",
       "      <th>total_energy_in</th>\n",
       "      <th>total_energy_out</th>\n",
       "    </tr>\n",
       "    <tr>\n",
       "      <th>datum</th>\n",
       "      <th></th>\n",
       "      <th></th>\n",
       "      <th></th>\n",
       "      <th></th>\n",
       "      <th></th>\n",
       "      <th></th>\n",
       "      <th></th>\n",
       "      <th></th>\n",
       "    </tr>\n",
       "  </thead>\n",
       "  <tbody>\n",
       "    <tr>\n",
       "      <th>2019-01-01</th>\n",
       "      <td>1546297473</td>\n",
       "      <td>911.438</td>\n",
       "      <td>1493.562</td>\n",
       "      <td>31.925</td>\n",
       "      <td>91.057</td>\n",
       "      <td>1573.5</td>\n",
       "      <td>2405.000</td>\n",
       "      <td>122.982</td>\n",
       "    </tr>\n",
       "    <tr>\n",
       "      <th>2019-01-02</th>\n",
       "      <td>1546383873</td>\n",
       "      <td>936.478</td>\n",
       "      <td>1493.562</td>\n",
       "      <td>32.134</td>\n",
       "      <td>91.057</td>\n",
       "      <td>95.1</td>\n",
       "      <td>2430.040</td>\n",
       "      <td>123.191</td>\n",
       "    </tr>\n",
       "    <tr>\n",
       "      <th>2019-01-03</th>\n",
       "      <td>1546470271</td>\n",
       "      <td>938.160</td>\n",
       "      <td>1508.769</td>\n",
       "      <td>32.134</td>\n",
       "      <td>91.504</td>\n",
       "      <td>92.7</td>\n",
       "      <td>2446.929</td>\n",
       "      <td>123.638</td>\n",
       "    </tr>\n",
       "    <tr>\n",
       "      <th>2019-01-04</th>\n",
       "      <td>1546556671</td>\n",
       "      <td>939.824</td>\n",
       "      <td>1531.635</td>\n",
       "      <td>32.134</td>\n",
       "      <td>92.988</td>\n",
       "      <td>92.3</td>\n",
       "      <td>2471.459</td>\n",
       "      <td>125.122</td>\n",
       "    </tr>\n",
       "    <tr>\n",
       "      <th>2019-01-05</th>\n",
       "      <td>1546643070</td>\n",
       "      <td>941.385</td>\n",
       "      <td>1556.682</td>\n",
       "      <td>32.134</td>\n",
       "      <td>92.989</td>\n",
       "      <td>91.7</td>\n",
       "      <td>2498.067</td>\n",
       "      <td>125.123</td>\n",
       "    </tr>\n",
       "    <tr>\n",
       "      <th>...</th>\n",
       "      <td>...</td>\n",
       "      <td>...</td>\n",
       "      <td>...</td>\n",
       "      <td>...</td>\n",
       "      <td>...</td>\n",
       "      <td>...</td>\n",
       "      <td>...</td>\n",
       "      <td>...</td>\n",
       "    </tr>\n",
       "    <tr>\n",
       "      <th>2019-12-28</th>\n",
       "      <td>1577487600</td>\n",
       "      <td>3191.204</td>\n",
       "      <td>4121.441</td>\n",
       "      <td>2019.177</td>\n",
       "      <td>4464.864</td>\n",
       "      <td>2433.0</td>\n",
       "      <td>7312.645</td>\n",
       "      <td>6484.041</td>\n",
       "    </tr>\n",
       "    <tr>\n",
       "      <th>2019-12-29</th>\n",
       "      <td>1577574000</td>\n",
       "      <td>3210.485</td>\n",
       "      <td>4121.441</td>\n",
       "      <td>2019.632</td>\n",
       "      <td>4464.864</td>\n",
       "      <td>960.0</td>\n",
       "      <td>7331.926</td>\n",
       "      <td>6484.496</td>\n",
       "    </tr>\n",
       "    <tr>\n",
       "      <th>2019-12-30</th>\n",
       "      <td>1577660401</td>\n",
       "      <td>3221.510</td>\n",
       "      <td>4121.441</td>\n",
       "      <td>2021.206</td>\n",
       "      <td>4464.864</td>\n",
       "      <td>166.0</td>\n",
       "      <td>7342.951</td>\n",
       "      <td>6486.070</td>\n",
       "    </tr>\n",
       "    <tr>\n",
       "      <th>2019-12-31</th>\n",
       "      <td>1577746800</td>\n",
       "      <td>3227.592</td>\n",
       "      <td>4126.196</td>\n",
       "      <td>2021.206</td>\n",
       "      <td>4470.696</td>\n",
       "      <td>650.0</td>\n",
       "      <td>7353.788</td>\n",
       "      <td>6491.902</td>\n",
       "    </tr>\n",
       "    <tr>\n",
       "      <th>2020-01-01</th>\n",
       "      <td>1577833200</td>\n",
       "      <td>3230.907</td>\n",
       "      <td>4132.383</td>\n",
       "      <td>2021.206</td>\n",
       "      <td>4475.114</td>\n",
       "      <td>162.0</td>\n",
       "      <td>7363.290</td>\n",
       "      <td>6496.320</td>\n",
       "    </tr>\n",
       "  </tbody>\n",
       "</table>\n",
       "<p>366 rows × 8 columns</p>\n",
       "</div>"
      ],
      "text/plain": [
       "             Timestamp  energy_in_low  energy_in_norm  energy_out_low  \\\n",
       "datum                                                                   \n",
       "2019-01-01  1546297473        911.438        1493.562          31.925   \n",
       "2019-01-02  1546383873        936.478        1493.562          32.134   \n",
       "2019-01-03  1546470271        938.160        1508.769          32.134   \n",
       "2019-01-04  1546556671        939.824        1531.635          32.134   \n",
       "2019-01-05  1546643070        941.385        1556.682          32.134   \n",
       "...                ...            ...             ...             ...   \n",
       "2019-12-28  1577487600       3191.204        4121.441        2019.177   \n",
       "2019-12-29  1577574000       3210.485        4121.441        2019.632   \n",
       "2019-12-30  1577660401       3221.510        4121.441        2021.206   \n",
       "2019-12-31  1577746800       3227.592        4126.196        2021.206   \n",
       "2020-01-01  1577833200       3230.907        4132.383        2021.206   \n",
       "\n",
       "            energy_out_norm   power  total_energy_in  total_energy_out  \n",
       "datum                                                                   \n",
       "2019-01-01           91.057  1573.5         2405.000           122.982  \n",
       "2019-01-02           91.057    95.1         2430.040           123.191  \n",
       "2019-01-03           91.504    92.7         2446.929           123.638  \n",
       "2019-01-04           92.988    92.3         2471.459           125.122  \n",
       "2019-01-05           92.989    91.7         2498.067           125.123  \n",
       "...                     ...     ...              ...               ...  \n",
       "2019-12-28         4464.864  2433.0         7312.645          6484.041  \n",
       "2019-12-29         4464.864   960.0         7331.926          6484.496  \n",
       "2019-12-30         4464.864   166.0         7342.951          6486.070  \n",
       "2019-12-31         4470.696   650.0         7353.788          6491.902  \n",
       "2020-01-01         4475.114   162.0         7363.290          6496.320  \n",
       "\n",
       "[366 rows x 8 columns]"
      ]
     },
     "execution_count": 163,
     "metadata": {},
     "output_type": "execute_result"
    }
   ],
   "source": [
    "data1['datum'] = [datetime.fromtimestamp(i) for i in data1['Timestamp']]\n",
    "data1['datum'] = pd.to_datetime(data1['datum']).dt.date\n",
    "data1= data1.drop_duplicates(subset='datum')\n",
    "data1=data1.set_index('datum')\n",
    "data1"
   ]
  },
  {
   "cell_type": "code",
   "execution_count": 164,
   "id": "638bab6d",
   "metadata": {},
   "outputs": [
    {
     "data": {
      "text/html": [
       "<div>\n",
       "<style scoped>\n",
       "    .dataframe tbody tr th:only-of-type {\n",
       "        vertical-align: middle;\n",
       "    }\n",
       "\n",
       "    .dataframe tbody tr th {\n",
       "        vertical-align: top;\n",
       "    }\n",
       "\n",
       "    .dataframe thead th {\n",
       "        text-align: right;\n",
       "    }\n",
       "</style>\n",
       "<table border=\"1\" class=\"dataframe\">\n",
       "  <thead>\n",
       "    <tr style=\"text-align: right;\">\n",
       "      <th></th>\n",
       "      <th>Timestamp</th>\n",
       "      <th>power</th>\n",
       "      <th>total_energy_in</th>\n",
       "      <th>total_energy_out</th>\n",
       "    </tr>\n",
       "    <tr>\n",
       "      <th>datum</th>\n",
       "      <th></th>\n",
       "      <th></th>\n",
       "      <th></th>\n",
       "      <th></th>\n",
       "    </tr>\n",
       "  </thead>\n",
       "  <tbody>\n",
       "    <tr>\n",
       "      <th>2019-01-01</th>\n",
       "      <td>1546297471</td>\n",
       "      <td>2.385</td>\n",
       "      <td>3.37</td>\n",
       "      <td>329.83</td>\n",
       "    </tr>\n",
       "    <tr>\n",
       "      <th>2019-01-02</th>\n",
       "      <td>1546383871</td>\n",
       "      <td>2.390</td>\n",
       "      <td>3.42</td>\n",
       "      <td>332.67</td>\n",
       "    </tr>\n",
       "    <tr>\n",
       "      <th>2019-01-03</th>\n",
       "      <td>1546470270</td>\n",
       "      <td>2.427</td>\n",
       "      <td>3.48</td>\n",
       "      <td>335.54</td>\n",
       "    </tr>\n",
       "    <tr>\n",
       "      <th>2019-01-04</th>\n",
       "      <td>1546556671</td>\n",
       "      <td>2.411</td>\n",
       "      <td>3.54</td>\n",
       "      <td>341.00</td>\n",
       "    </tr>\n",
       "    <tr>\n",
       "      <th>2019-01-05</th>\n",
       "      <td>1546643070</td>\n",
       "      <td>2.331</td>\n",
       "      <td>3.61</td>\n",
       "      <td>341.73</td>\n",
       "    </tr>\n",
       "    <tr>\n",
       "      <th>...</th>\n",
       "      <td>...</td>\n",
       "      <td>...</td>\n",
       "      <td>...</td>\n",
       "      <td>...</td>\n",
       "    </tr>\n",
       "    <tr>\n",
       "      <th>2019-12-27</th>\n",
       "      <td>1577401200</td>\n",
       "      <td>2.540</td>\n",
       "      <td>19.44</td>\n",
       "      <td>8554.42</td>\n",
       "    </tr>\n",
       "    <tr>\n",
       "      <th>2019-12-28</th>\n",
       "      <td>1577487601</td>\n",
       "      <td>2.400</td>\n",
       "      <td>19.49</td>\n",
       "      <td>8562.04</td>\n",
       "    </tr>\n",
       "    <tr>\n",
       "      <th>2019-12-29</th>\n",
       "      <td>1577574000</td>\n",
       "      <td>2.420</td>\n",
       "      <td>19.55</td>\n",
       "      <td>8567.71</td>\n",
       "    </tr>\n",
       "    <tr>\n",
       "      <th>2019-12-30</th>\n",
       "      <td>1577660401</td>\n",
       "      <td>2.590</td>\n",
       "      <td>19.60</td>\n",
       "      <td>8572.12</td>\n",
       "    </tr>\n",
       "    <tr>\n",
       "      <th>2019-12-31</th>\n",
       "      <td>1577746802</td>\n",
       "      <td>2.390</td>\n",
       "      <td>19.66</td>\n",
       "      <td>8580.73</td>\n",
       "    </tr>\n",
       "  </tbody>\n",
       "</table>\n",
       "<p>365 rows × 4 columns</p>\n",
       "</div>"
      ],
      "text/plain": [
       "             Timestamp  power  total_energy_in  total_energy_out\n",
       "datum                                                           \n",
       "2019-01-01  1546297471  2.385             3.37            329.83\n",
       "2019-01-02  1546383871  2.390             3.42            332.67\n",
       "2019-01-03  1546470270  2.427             3.48            335.54\n",
       "2019-01-04  1546556671  2.411             3.54            341.00\n",
       "2019-01-05  1546643070  2.331             3.61            341.73\n",
       "...                ...    ...              ...               ...\n",
       "2019-12-27  1577401200  2.540            19.44           8554.42\n",
       "2019-12-28  1577487601  2.400            19.49           8562.04\n",
       "2019-12-29  1577574000  2.420            19.55           8567.71\n",
       "2019-12-30  1577660401  2.590            19.60           8572.12\n",
       "2019-12-31  1577746802  2.390            19.66           8580.73\n",
       "\n",
       "[365 rows x 4 columns]"
      ]
     },
     "execution_count": 164,
     "metadata": {},
     "output_type": "execute_result"
    }
   ],
   "source": [
    "data2['datum'] = [datetime.fromtimestamp(i) for i in data2['Timestamp']]\n",
    "data2['datum'] = pd.to_datetime(data2['datum']).dt.date\n",
    "data2= data2.drop_duplicates(subset='datum')\n",
    "data2=data2.set_index('datum')\n",
    "data2"
   ]
  },
  {
   "cell_type": "markdown",
   "id": "00d9770f",
   "metadata": {},
   "source": [
    "wij hebben een verslag van vorig jaar gekregen. Daarin stond hoe je het energieverbruik van een huis kunt berekenen. De formule is als volgt: energieverbruik= smart_in + solar_out - smart_out"
   ]
  },
  {
   "cell_type": "markdown",
   "id": "02546af1",
   "metadata": {},
   "source": [
    "om het energieverbruik te berekenen heb ik de koloomnamen veranderen en vervolgens smartmeter met solar gemergt"
   ]
  },
  {
   "cell_type": "code",
   "execution_count": 165,
   "id": "04dfcde7",
   "metadata": {},
   "outputs": [],
   "source": [
    "data1= data1[['total_energy_in', 'total_energy_out']]\n",
    "data2= data2[['total_energy_in', 'total_energy_out']]\n",
    "data1.columns = ['smart_in', 'smart_out']\n",
    "data2.columns= ['solar_in', 'solar_out']"
   ]
  },
  {
   "cell_type": "code",
   "execution_count": 166,
   "id": "c41a571d",
   "metadata": {},
   "outputs": [],
   "source": [
    "huis1= data1.merge(data2, on='datum', how='inner')"
   ]
  },
  {
   "cell_type": "code",
   "execution_count": 167,
   "id": "3d95e39a",
   "metadata": {},
   "outputs": [],
   "source": [
    "huis1['energie_verbruik']= huis1['smart_in'] + huis1['solar_out'] - huis1['smart_out']"
   ]
  },
  {
   "cell_type": "code",
   "execution_count": 168,
   "id": "e5693175",
   "metadata": {},
   "outputs": [
    {
     "data": {
      "text/plain": [
       "smart_in            0\n",
       "smart_out           0\n",
       "solar_in            0\n",
       "solar_out           0\n",
       "energie_verbruik    0\n",
       "dtype: int64"
      ]
     },
     "execution_count": 168,
     "metadata": {},
     "output_type": "execute_result"
    }
   ],
   "source": [
    "huis1.isna().sum()"
   ]
  },
  {
   "cell_type": "markdown",
   "id": "65dee526",
   "metadata": {},
   "source": [
    "# visualisatie huis1"
   ]
  },
  {
   "cell_type": "code",
   "execution_count": 119,
   "id": "a0a7e338",
   "metadata": {},
   "outputs": [
    {
     "data": {
      "text/plain": [
       "<AxesSubplot:xlabel='datum'>"
      ]
     },
     "execution_count": 119,
     "metadata": {},
     "output_type": "execute_result"
    },
    {
     "data": {
      "image/png": "[encoded data removed]",
      "text/plain": [
       "<Figure size 640x480 with 1 Axes>"
      ]
     },
     "metadata": {},
     "output_type": "display_data"
    }
   ],
   "source": [
    "huis1.plot(grid=True)"
   ]
  },
  {
   "cell_type": "code",
   "execution_count": 120,
   "id": "60847722",
   "metadata": {},
   "outputs": [
    {
     "data": {
      "text/plain": [
       "<matplotlib.legend.Legend at 0x7fd820723160>"
      ]
     },
     "execution_count": 120,
     "metadata": {},
     "output_type": "execute_result"
    },
    {
     "data": {
      "image/png": "[encoded data removed]",
      "text/plain": [
       "<Figure size 640x480 with 1 Axes>"
      ]
     },
     "metadata": {},
     "output_type": "display_data"
    }
   ],
   "source": [
    "plt.plot(data1['smart_in'], color='r', label='total energy in - smartmeter')\n",
    "plt.plot(data1['smart_out'], color='b', label='total energy out - smartmeter')\n",
    "plt.xlabel('date')\n",
    "plt.ylabel('energy')\n",
    "plt.title('energy smartmeter huis 1')\n",
    "plt.legend()"
   ]
  },
  {
   "cell_type": "code",
   "execution_count": 121,
   "id": "93eb8502",
   "metadata": {},
   "outputs": [
    {
     "data": {
      "text/plain": [
       "<matplotlib.legend.Legend at 0x7fd81f567700>"
      ]
     },
     "execution_count": 121,
     "metadata": {},
     "output_type": "execute_result"
    },
    {
     "data": {
      "image/png": "[encoded data removed]",
      "text/plain": [
       "<Figure size 640x480 with 1 Axes>"
      ]
     },
     "metadata": {},
     "output_type": "display_data"
    }
   ],
   "source": [
    "plt.plot(data2['solar_in'], color='r', label='total energy in - solar')\n",
    "plt.plot(data2['solar_out'], color='b', label='total energy out - solar')\n",
    "plt.xlabel('date')\n",
    "plt.ylabel('energy')\n",
    "plt.title('energy solar huis 1')\n",
    "plt.legend()"
   ]
  },
  {
   "cell_type": "code",
   "execution_count": 123,
   "id": "28d91ee9",
   "metadata": {},
   "outputs": [
    {
     "name": "stderr",
     "output_type": "stream",
     "text": [
      "No artists with labels found to put in legend.  Note that artists whose label start with an underscore are ignored when legend() is called with no argument.\n"
     ]
    },
    {
     "data": {
      "text/plain": [
       "<matplotlib.legend.Legend at 0x7fd81ffff7c0>"
      ]
     },
     "execution_count": 123,
     "metadata": {},
     "output_type": "execute_result"
    },
    {
     "data": {
      "image/png": "[encoded data removed]",
      "text/plain": [
       "<Figure size 640x480 with 1 Axes>"
      ]
     },
     "metadata": {},
     "output_type": "display_data"
    }
   ],
   "source": [
    "plt.plot(huis1['energie_verbruik'], color='r')\n",
    "plt.xlabel('datum')\n",
    "plt.ylabel('energieverbruik')\n",
    "plt.title('energieverbruik huis 1')\n",
    "plt.legend()"
   ]
  },
  {
   "cell_type": "markdown",
   "id": "95fd8b0c",
   "metadata": {},
   "source": [
    "# energieverbruik stationaire maken"
   ]
  },
  {
   "cell_type": "code",
   "execution_count": 169,
   "id": "aa0d68e7",
   "metadata": {},
   "outputs": [],
   "source": [
    "huis1['energie_verbruik_st']= huis1['energie_verbruik'].diff().fillna(0)"
   ]
  },
  {
   "cell_type": "code",
   "execution_count": 170,
   "id": "6aea5195",
   "metadata": {},
   "outputs": [
    {
     "data": {
      "text/html": [
       "<div>\n",
       "<style scoped>\n",
       "    .dataframe tbody tr th:only-of-type {\n",
       "        vertical-align: middle;\n",
       "    }\n",
       "\n",
       "    .dataframe tbody tr th {\n",
       "        vertical-align: top;\n",
       "    }\n",
       "\n",
       "    .dataframe thead th {\n",
       "        text-align: right;\n",
       "    }\n",
       "</style>\n",
       "<table border=\"1\" class=\"dataframe\">\n",
       "  <thead>\n",
       "    <tr style=\"text-align: right;\">\n",
       "      <th></th>\n",
       "      <th>smart_in</th>\n",
       "      <th>smart_out</th>\n",
       "      <th>solar_in</th>\n",
       "      <th>solar_out</th>\n",
       "      <th>energie_verbruik</th>\n",
       "      <th>energie_verbruik_st</th>\n",
       "    </tr>\n",
       "    <tr>\n",
       "      <th>datum</th>\n",
       "      <th></th>\n",
       "      <th></th>\n",
       "      <th></th>\n",
       "      <th></th>\n",
       "      <th></th>\n",
       "      <th></th>\n",
       "    </tr>\n",
       "  </thead>\n",
       "  <tbody>\n",
       "    <tr>\n",
       "      <th>2019-01-01</th>\n",
       "      <td>2405.000</td>\n",
       "      <td>122.982</td>\n",
       "      <td>3.37</td>\n",
       "      <td>329.83</td>\n",
       "      <td>2611.848</td>\n",
       "      <td>0.000</td>\n",
       "    </tr>\n",
       "    <tr>\n",
       "      <th>2019-01-02</th>\n",
       "      <td>2430.040</td>\n",
       "      <td>123.191</td>\n",
       "      <td>3.42</td>\n",
       "      <td>332.67</td>\n",
       "      <td>2639.519</td>\n",
       "      <td>27.671</td>\n",
       "    </tr>\n",
       "    <tr>\n",
       "      <th>2019-01-03</th>\n",
       "      <td>2446.929</td>\n",
       "      <td>123.638</td>\n",
       "      <td>3.48</td>\n",
       "      <td>335.54</td>\n",
       "      <td>2658.831</td>\n",
       "      <td>19.312</td>\n",
       "    </tr>\n",
       "    <tr>\n",
       "      <th>2019-01-04</th>\n",
       "      <td>2471.459</td>\n",
       "      <td>125.122</td>\n",
       "      <td>3.54</td>\n",
       "      <td>341.00</td>\n",
       "      <td>2687.337</td>\n",
       "      <td>28.506</td>\n",
       "    </tr>\n",
       "    <tr>\n",
       "      <th>2019-01-05</th>\n",
       "      <td>2498.067</td>\n",
       "      <td>125.123</td>\n",
       "      <td>3.61</td>\n",
       "      <td>341.73</td>\n",
       "      <td>2714.674</td>\n",
       "      <td>27.337</td>\n",
       "    </tr>\n",
       "    <tr>\n",
       "      <th>...</th>\n",
       "      <td>...</td>\n",
       "      <td>...</td>\n",
       "      <td>...</td>\n",
       "      <td>...</td>\n",
       "      <td>...</td>\n",
       "      <td>...</td>\n",
       "    </tr>\n",
       "    <tr>\n",
       "      <th>2019-12-27</th>\n",
       "      <td>7276.278</td>\n",
       "      <td>6483.856</td>\n",
       "      <td>19.44</td>\n",
       "      <td>8554.42</td>\n",
       "      <td>9346.842</td>\n",
       "      <td>46.318</td>\n",
       "    </tr>\n",
       "    <tr>\n",
       "      <th>2019-12-28</th>\n",
       "      <td>7312.645</td>\n",
       "      <td>6484.041</td>\n",
       "      <td>19.49</td>\n",
       "      <td>8562.04</td>\n",
       "      <td>9390.644</td>\n",
       "      <td>43.802</td>\n",
       "    </tr>\n",
       "    <tr>\n",
       "      <th>2019-12-29</th>\n",
       "      <td>7331.926</td>\n",
       "      <td>6484.496</td>\n",
       "      <td>19.55</td>\n",
       "      <td>8567.71</td>\n",
       "      <td>9415.140</td>\n",
       "      <td>24.496</td>\n",
       "    </tr>\n",
       "    <tr>\n",
       "      <th>2019-12-30</th>\n",
       "      <td>7342.951</td>\n",
       "      <td>6486.070</td>\n",
       "      <td>19.60</td>\n",
       "      <td>8572.12</td>\n",
       "      <td>9429.001</td>\n",
       "      <td>13.861</td>\n",
       "    </tr>\n",
       "    <tr>\n",
       "      <th>2019-12-31</th>\n",
       "      <td>7353.788</td>\n",
       "      <td>6491.902</td>\n",
       "      <td>19.66</td>\n",
       "      <td>8580.73</td>\n",
       "      <td>9442.616</td>\n",
       "      <td>13.615</td>\n",
       "    </tr>\n",
       "  </tbody>\n",
       "</table>\n",
       "<p>365 rows × 6 columns</p>\n",
       "</div>"
      ],
      "text/plain": [
       "            smart_in  smart_out  solar_in  solar_out  energie_verbruik  \\\n",
       "datum                                                                    \n",
       "2019-01-01  2405.000    122.982      3.37     329.83          2611.848   \n",
       "2019-01-02  2430.040    123.191      3.42     332.67          2639.519   \n",
       "2019-01-03  2446.929    123.638      3.48     335.54          2658.831   \n",
       "2019-01-04  2471.459    125.122      3.54     341.00          2687.337   \n",
       "2019-01-05  2498.067    125.123      3.61     341.73          2714.674   \n",
       "...              ...        ...       ...        ...               ...   \n",
       "2019-12-27  7276.278   6483.856     19.44    8554.42          9346.842   \n",
       "2019-12-28  7312.645   6484.041     19.49    8562.04          9390.644   \n",
       "2019-12-29  7331.926   6484.496     19.55    8567.71          9415.140   \n",
       "2019-12-30  7342.951   6486.070     19.60    8572.12          9429.001   \n",
       "2019-12-31  7353.788   6491.902     19.66    8580.73          9442.616   \n",
       "\n",
       "            energie_verbruik_st  \n",
       "datum                            \n",
       "2019-01-01                0.000  \n",
       "2019-01-02               27.671  \n",
       "2019-01-03               19.312  \n",
       "2019-01-04               28.506  \n",
       "2019-01-05               27.337  \n",
       "...                         ...  \n",
       "2019-12-27               46.318  \n",
       "2019-12-28               43.802  \n",
       "2019-12-29               24.496  \n",
       "2019-12-30               13.861  \n",
       "2019-12-31               13.615  \n",
       "\n",
       "[365 rows x 6 columns]"
      ]
     },
     "execution_count": 170,
     "metadata": {},
     "output_type": "execute_result"
    }
   ],
   "source": [
    "huis1"
   ]
  },
  {
   "cell_type": "markdown",
   "id": "a4d12dc8",
   "metadata": {},
   "source": [
    "# visualisatie met stationaire verbruik"
   ]
  },
  {
   "cell_type": "code",
   "execution_count": 126,
   "id": "f48d36e2",
   "metadata": {},
   "outputs": [
    {
     "data": {
      "text/plain": [
       "Text(0.5, 1.0, 'energieverbruik stationaire huis 1')"
      ]
     },
     "execution_count": 126,
     "metadata": {},
     "output_type": "execute_result"
    },
    {
     "data": {
      "image/png": "[encoded data removed]",
      "text/plain": [
       "<Figure size 640x480 with 1 Axes>"
      ]
     },
     "metadata": {},
     "output_type": "display_data"
    }
   ],
   "source": [
    "plt.plot(huis1['energie_verbruik_st'])\n",
    "plt.xlabel('datum')\n",
    "plt.ylabel('energieverbruik stationaire')\n",
    "plt.title('energieverbruik stationaire huis 1')"
   ]
  },
  {
   "cell_type": "markdown",
   "id": "6540167b",
   "metadata": {},
   "source": [
    "# nieuwe kolommen aanmaken om straks als features te gebruiken"
   ]
  },
  {
   "cell_type": "code",
   "execution_count": 171,
   "id": "b4826f5b",
   "metadata": {},
   "outputs": [],
   "source": [
    "huis1.index = pd.to_datetime(huis1.index, errors='coerce')\n",
    "huis1['datum']= huis1.index\n",
    "huis1['maand'] = huis1['datum'].dt.strftime('%m')\n",
    "huis1['dag']= [*range(1, len(huis1)+1)]"
   ]
  },
  {
   "cell_type": "markdown",
   "id": "3a49417e",
   "metadata": {},
   "source": [
    "# weerdata inladen en met huis1 mergen"
   ]
  },
  {
   "cell_type": "code",
   "execution_count": 173,
   "id": "fb5ddf81",
   "metadata": {},
   "outputs": [
    {
     "data": {
      "text/html": [
       "<div>\n",
       "<style scoped>\n",
       "    .dataframe tbody tr th:only-of-type {\n",
       "        vertical-align: middle;\n",
       "    }\n",
       "\n",
       "    .dataframe tbody tr th {\n",
       "        vertical-align: top;\n",
       "    }\n",
       "\n",
       "    .dataframe thead th {\n",
       "        text-align: right;\n",
       "    }\n",
       "</style>\n",
       "<table border=\"1\" class=\"dataframe\">\n",
       "  <thead>\n",
       "    <tr style=\"text-align: right;\">\n",
       "      <th></th>\n",
       "      <th>zonsterkte</th>\n",
       "    </tr>\n",
       "    <tr>\n",
       "      <th>datum</th>\n",
       "      <th></th>\n",
       "    </tr>\n",
       "  </thead>\n",
       "  <tbody>\n",
       "    <tr>\n",
       "      <th>2019-01-01</th>\n",
       "      <td>161</td>\n",
       "    </tr>\n",
       "    <tr>\n",
       "      <th>2019-01-02</th>\n",
       "      <td>147</td>\n",
       "    </tr>\n",
       "    <tr>\n",
       "      <th>2019-01-03</th>\n",
       "      <td>257</td>\n",
       "    </tr>\n",
       "    <tr>\n",
       "      <th>2019-01-04</th>\n",
       "      <td>49</td>\n",
       "    </tr>\n",
       "    <tr>\n",
       "      <th>2019-01-05</th>\n",
       "      <td>56</td>\n",
       "    </tr>\n",
       "    <tr>\n",
       "      <th>...</th>\n",
       "      <td>...</td>\n",
       "    </tr>\n",
       "    <tr>\n",
       "      <th>2019-12-27</th>\n",
       "      <td>334</td>\n",
       "    </tr>\n",
       "    <tr>\n",
       "      <th>2019-12-28</th>\n",
       "      <td>235</td>\n",
       "    </tr>\n",
       "    <tr>\n",
       "      <th>2019-12-29</th>\n",
       "      <td>199</td>\n",
       "    </tr>\n",
       "    <tr>\n",
       "      <th>2019-12-30</th>\n",
       "      <td>362</td>\n",
       "    </tr>\n",
       "    <tr>\n",
       "      <th>2019-12-31</th>\n",
       "      <td>303</td>\n",
       "    </tr>\n",
       "  </tbody>\n",
       "</table>\n",
       "<p>365 rows × 1 columns</p>\n",
       "</div>"
      ],
      "text/plain": [
       "           zonsterkte\n",
       "datum                \n",
       "2019-01-01        161\n",
       "2019-01-02        147\n",
       "2019-01-03        257\n",
       "2019-01-04         49\n",
       "2019-01-05         56\n",
       "...               ...\n",
       "2019-12-27        334\n",
       "2019-12-28        235\n",
       "2019-12-29        199\n",
       "2019-12-30        362\n",
       "2019-12-31        303\n",
       "\n",
       "[365 rows x 1 columns]"
      ]
     },
     "execution_count": 173,
     "metadata": {},
     "output_type": "execute_result"
    }
   ],
   "source": [
    "weer = pd.read_csv('KNMI.txt')\n",
    "weer= weer[weer['YYYYMMDD'] >20181231]\n",
    "weer= weer[weer['YYYYMMDD'] <20200101]\n",
    "weer['datum'] = weer['YYYYMMDD'].apply(lambda x: pd.to_datetime(str(x), format='%Y-%m-%d'))\n",
    "weer= weer[['datum', '    Q']]\n",
    "weer.columns= ['datum', 'zonsterkte']\n",
    "weer= weer.set_index('datum')\n",
    "weer"
   ]
  },
  {
   "cell_type": "code",
   "execution_count": 175,
   "id": "1942909d",
   "metadata": {},
   "outputs": [],
   "source": [
    "huis1= huis1.drop(['datum'], axis=1)"
   ]
  },
  {
   "cell_type": "code",
   "execution_count": 177,
   "id": "6e8d5099",
   "metadata": {},
   "outputs": [
    {
     "data": {
      "text/html": [
       "<div>\n",
       "<style scoped>\n",
       "    .dataframe tbody tr th:only-of-type {\n",
       "        vertical-align: middle;\n",
       "    }\n",
       "\n",
       "    .dataframe tbody tr th {\n",
       "        vertical-align: top;\n",
       "    }\n",
       "\n",
       "    .dataframe thead th {\n",
       "        text-align: right;\n",
       "    }\n",
       "</style>\n",
       "<table border=\"1\" class=\"dataframe\">\n",
       "  <thead>\n",
       "    <tr style=\"text-align: right;\">\n",
       "      <th></th>\n",
       "      <th>smart_in</th>\n",
       "      <th>smart_out</th>\n",
       "      <th>solar_in</th>\n",
       "      <th>solar_out</th>\n",
       "      <th>energie_verbruik</th>\n",
       "      <th>energie_verbruik_st</th>\n",
       "      <th>maand</th>\n",
       "      <th>dag</th>\n",
       "      <th>zonsterkte</th>\n",
       "    </tr>\n",
       "    <tr>\n",
       "      <th>datum</th>\n",
       "      <th></th>\n",
       "      <th></th>\n",
       "      <th></th>\n",
       "      <th></th>\n",
       "      <th></th>\n",
       "      <th></th>\n",
       "      <th></th>\n",
       "      <th></th>\n",
       "      <th></th>\n",
       "    </tr>\n",
       "  </thead>\n",
       "  <tbody>\n",
       "    <tr>\n",
       "      <th>2019-01-01</th>\n",
       "      <td>2405.000</td>\n",
       "      <td>122.982</td>\n",
       "      <td>3.37</td>\n",
       "      <td>329.83</td>\n",
       "      <td>2611.848</td>\n",
       "      <td>0.000</td>\n",
       "      <td>01</td>\n",
       "      <td>1</td>\n",
       "      <td>161</td>\n",
       "    </tr>\n",
       "    <tr>\n",
       "      <th>2019-01-02</th>\n",
       "      <td>2430.040</td>\n",
       "      <td>123.191</td>\n",
       "      <td>3.42</td>\n",
       "      <td>332.67</td>\n",
       "      <td>2639.519</td>\n",
       "      <td>27.671</td>\n",
       "      <td>01</td>\n",
       "      <td>2</td>\n",
       "      <td>147</td>\n",
       "    </tr>\n",
       "    <tr>\n",
       "      <th>2019-01-03</th>\n",
       "      <td>2446.929</td>\n",
       "      <td>123.638</td>\n",
       "      <td>3.48</td>\n",
       "      <td>335.54</td>\n",
       "      <td>2658.831</td>\n",
       "      <td>19.312</td>\n",
       "      <td>01</td>\n",
       "      <td>3</td>\n",
       "      <td>257</td>\n",
       "    </tr>\n",
       "    <tr>\n",
       "      <th>2019-01-04</th>\n",
       "      <td>2471.459</td>\n",
       "      <td>125.122</td>\n",
       "      <td>3.54</td>\n",
       "      <td>341.00</td>\n",
       "      <td>2687.337</td>\n",
       "      <td>28.506</td>\n",
       "      <td>01</td>\n",
       "      <td>4</td>\n",
       "      <td>49</td>\n",
       "    </tr>\n",
       "    <tr>\n",
       "      <th>2019-01-05</th>\n",
       "      <td>2498.067</td>\n",
       "      <td>125.123</td>\n",
       "      <td>3.61</td>\n",
       "      <td>341.73</td>\n",
       "      <td>2714.674</td>\n",
       "      <td>27.337</td>\n",
       "      <td>01</td>\n",
       "      <td>5</td>\n",
       "      <td>56</td>\n",
       "    </tr>\n",
       "    <tr>\n",
       "      <th>...</th>\n",
       "      <td>...</td>\n",
       "      <td>...</td>\n",
       "      <td>...</td>\n",
       "      <td>...</td>\n",
       "      <td>...</td>\n",
       "      <td>...</td>\n",
       "      <td>...</td>\n",
       "      <td>...</td>\n",
       "      <td>...</td>\n",
       "    </tr>\n",
       "    <tr>\n",
       "      <th>2019-12-27</th>\n",
       "      <td>7276.278</td>\n",
       "      <td>6483.856</td>\n",
       "      <td>19.44</td>\n",
       "      <td>8554.42</td>\n",
       "      <td>9346.842</td>\n",
       "      <td>46.318</td>\n",
       "      <td>12</td>\n",
       "      <td>361</td>\n",
       "      <td>334</td>\n",
       "    </tr>\n",
       "    <tr>\n",
       "      <th>2019-12-28</th>\n",
       "      <td>7312.645</td>\n",
       "      <td>6484.041</td>\n",
       "      <td>19.49</td>\n",
       "      <td>8562.04</td>\n",
       "      <td>9390.644</td>\n",
       "      <td>43.802</td>\n",
       "      <td>12</td>\n",
       "      <td>362</td>\n",
       "      <td>235</td>\n",
       "    </tr>\n",
       "    <tr>\n",
       "      <th>2019-12-29</th>\n",
       "      <td>7331.926</td>\n",
       "      <td>6484.496</td>\n",
       "      <td>19.55</td>\n",
       "      <td>8567.71</td>\n",
       "      <td>9415.140</td>\n",
       "      <td>24.496</td>\n",
       "      <td>12</td>\n",
       "      <td>363</td>\n",
       "      <td>199</td>\n",
       "    </tr>\n",
       "    <tr>\n",
       "      <th>2019-12-30</th>\n",
       "      <td>7342.951</td>\n",
       "      <td>6486.070</td>\n",
       "      <td>19.60</td>\n",
       "      <td>8572.12</td>\n",
       "      <td>9429.001</td>\n",
       "      <td>13.861</td>\n",
       "      <td>12</td>\n",
       "      <td>364</td>\n",
       "      <td>362</td>\n",
       "    </tr>\n",
       "    <tr>\n",
       "      <th>2019-12-31</th>\n",
       "      <td>7353.788</td>\n",
       "      <td>6491.902</td>\n",
       "      <td>19.66</td>\n",
       "      <td>8580.73</td>\n",
       "      <td>9442.616</td>\n",
       "      <td>13.615</td>\n",
       "      <td>12</td>\n",
       "      <td>365</td>\n",
       "      <td>303</td>\n",
       "    </tr>\n",
       "  </tbody>\n",
       "</table>\n",
       "<p>365 rows × 9 columns</p>\n",
       "</div>"
      ],
      "text/plain": [
       "            smart_in  smart_out  solar_in  solar_out  energie_verbruik  \\\n",
       "datum                                                                    \n",
       "2019-01-01  2405.000    122.982      3.37     329.83          2611.848   \n",
       "2019-01-02  2430.040    123.191      3.42     332.67          2639.519   \n",
       "2019-01-03  2446.929    123.638      3.48     335.54          2658.831   \n",
       "2019-01-04  2471.459    125.122      3.54     341.00          2687.337   \n",
       "2019-01-05  2498.067    125.123      3.61     341.73          2714.674   \n",
       "...              ...        ...       ...        ...               ...   \n",
       "2019-12-27  7276.278   6483.856     19.44    8554.42          9346.842   \n",
       "2019-12-28  7312.645   6484.041     19.49    8562.04          9390.644   \n",
       "2019-12-29  7331.926   6484.496     19.55    8567.71          9415.140   \n",
       "2019-12-30  7342.951   6486.070     19.60    8572.12          9429.001   \n",
       "2019-12-31  7353.788   6491.902     19.66    8580.73          9442.616   \n",
       "\n",
       "            energie_verbruik_st maand  dag zonsterkte  \n",
       "datum                                                  \n",
       "2019-01-01                0.000    01    1        161  \n",
       "2019-01-02               27.671    01    2        147  \n",
       "2019-01-03               19.312    01    3        257  \n",
       "2019-01-04               28.506    01    4         49  \n",
       "2019-01-05               27.337    01    5         56  \n",
       "...                         ...   ...  ...        ...  \n",
       "2019-12-27               46.318    12  361        334  \n",
       "2019-12-28               43.802    12  362        235  \n",
       "2019-12-29               24.496    12  363        199  \n",
       "2019-12-30               13.861    12  364        362  \n",
       "2019-12-31               13.615    12  365        303  \n",
       "\n",
       "[365 rows x 9 columns]"
      ]
     },
     "execution_count": 177,
     "metadata": {},
     "output_type": "execute_result"
    }
   ],
   "source": [
    "huis1= huis1.merge(weer, on='datum', how='outer')\n",
    "huis1"
   ]
  },
  {
   "cell_type": "markdown",
   "id": "b6a1a815",
   "metadata": {},
   "source": [
    "nu filter ik de dataset van huis1 en laat ik alleen de nodige kolommen staan"
   ]
  },
  {
   "cell_type": "code",
   "execution_count": 178,
   "id": "3ee6564e",
   "metadata": {},
   "outputs": [],
   "source": [
    "huis1= huis1[['dag', 'maand', 'zonsterkte', 'energie_verbruik', 'energie_verbruik_st']]"
   ]
  },
  {
   "cell_type": "code",
   "execution_count": 179,
   "id": "2d7c3fe4",
   "metadata": {},
   "outputs": [
    {
     "data": {
      "text/html": [
       "<div>\n",
       "<style scoped>\n",
       "    .dataframe tbody tr th:only-of-type {\n",
       "        vertical-align: middle;\n",
       "    }\n",
       "\n",
       "    .dataframe tbody tr th {\n",
       "        vertical-align: top;\n",
       "    }\n",
       "\n",
       "    .dataframe thead th {\n",
       "        text-align: right;\n",
       "    }\n",
       "</style>\n",
       "<table border=\"1\" class=\"dataframe\">\n",
       "  <thead>\n",
       "    <tr style=\"text-align: right;\">\n",
       "      <th></th>\n",
       "      <th>dag</th>\n",
       "      <th>maand</th>\n",
       "      <th>zonsterkte</th>\n",
       "      <th>energie_verbruik</th>\n",
       "      <th>energie_verbruik_st</th>\n",
       "    </tr>\n",
       "    <tr>\n",
       "      <th>datum</th>\n",
       "      <th></th>\n",
       "      <th></th>\n",
       "      <th></th>\n",
       "      <th></th>\n",
       "      <th></th>\n",
       "    </tr>\n",
       "  </thead>\n",
       "  <tbody>\n",
       "    <tr>\n",
       "      <th>2019-01-01</th>\n",
       "      <td>1</td>\n",
       "      <td>01</td>\n",
       "      <td>161</td>\n",
       "      <td>2611.848</td>\n",
       "      <td>0.000</td>\n",
       "    </tr>\n",
       "    <tr>\n",
       "      <th>2019-01-02</th>\n",
       "      <td>2</td>\n",
       "      <td>01</td>\n",
       "      <td>147</td>\n",
       "      <td>2639.519</td>\n",
       "      <td>27.671</td>\n",
       "    </tr>\n",
       "    <tr>\n",
       "      <th>2019-01-03</th>\n",
       "      <td>3</td>\n",
       "      <td>01</td>\n",
       "      <td>257</td>\n",
       "      <td>2658.831</td>\n",
       "      <td>19.312</td>\n",
       "    </tr>\n",
       "    <tr>\n",
       "      <th>2019-01-04</th>\n",
       "      <td>4</td>\n",
       "      <td>01</td>\n",
       "      <td>49</td>\n",
       "      <td>2687.337</td>\n",
       "      <td>28.506</td>\n",
       "    </tr>\n",
       "    <tr>\n",
       "      <th>2019-01-05</th>\n",
       "      <td>5</td>\n",
       "      <td>01</td>\n",
       "      <td>56</td>\n",
       "      <td>2714.674</td>\n",
       "      <td>27.337</td>\n",
       "    </tr>\n",
       "    <tr>\n",
       "      <th>...</th>\n",
       "      <td>...</td>\n",
       "      <td>...</td>\n",
       "      <td>...</td>\n",
       "      <td>...</td>\n",
       "      <td>...</td>\n",
       "    </tr>\n",
       "    <tr>\n",
       "      <th>2019-12-27</th>\n",
       "      <td>361</td>\n",
       "      <td>12</td>\n",
       "      <td>334</td>\n",
       "      <td>9346.842</td>\n",
       "      <td>46.318</td>\n",
       "    </tr>\n",
       "    <tr>\n",
       "      <th>2019-12-28</th>\n",
       "      <td>362</td>\n",
       "      <td>12</td>\n",
       "      <td>235</td>\n",
       "      <td>9390.644</td>\n",
       "      <td>43.802</td>\n",
       "    </tr>\n",
       "    <tr>\n",
       "      <th>2019-12-29</th>\n",
       "      <td>363</td>\n",
       "      <td>12</td>\n",
       "      <td>199</td>\n",
       "      <td>9415.140</td>\n",
       "      <td>24.496</td>\n",
       "    </tr>\n",
       "    <tr>\n",
       "      <th>2019-12-30</th>\n",
       "      <td>364</td>\n",
       "      <td>12</td>\n",
       "      <td>362</td>\n",
       "      <td>9429.001</td>\n",
       "      <td>13.861</td>\n",
       "    </tr>\n",
       "    <tr>\n",
       "      <th>2019-12-31</th>\n",
       "      <td>365</td>\n",
       "      <td>12</td>\n",
       "      <td>303</td>\n",
       "      <td>9442.616</td>\n",
       "      <td>13.615</td>\n",
       "    </tr>\n",
       "  </tbody>\n",
       "</table>\n",
       "<p>365 rows × 5 columns</p>\n",
       "</div>"
      ],
      "text/plain": [
       "            dag maand zonsterkte  energie_verbruik  energie_verbruik_st\n",
       "datum                                                                  \n",
       "2019-01-01    1    01        161          2611.848                0.000\n",
       "2019-01-02    2    01        147          2639.519               27.671\n",
       "2019-01-03    3    01        257          2658.831               19.312\n",
       "2019-01-04    4    01         49          2687.337               28.506\n",
       "2019-01-05    5    01         56          2714.674               27.337\n",
       "...         ...   ...        ...               ...                  ...\n",
       "2019-12-27  361    12        334          9346.842               46.318\n",
       "2019-12-28  362    12        235          9390.644               43.802\n",
       "2019-12-29  363    12        199          9415.140               24.496\n",
       "2019-12-30  364    12        362          9429.001               13.861\n",
       "2019-12-31  365    12        303          9442.616               13.615\n",
       "\n",
       "[365 rows x 5 columns]"
      ]
     },
     "execution_count": 179,
     "metadata": {},
     "output_type": "execute_result"
    }
   ],
   "source": [
    "huis1"
   ]
  },
  {
   "cell_type": "markdown",
   "id": "b07ccf91",
   "metadata": {},
   "source": [
    "# detect outliers"
   ]
  },
  {
   "cell_type": "code",
   "execution_count": 180,
   "id": "70a4feba",
   "metadata": {},
   "outputs": [
    {
     "data": {
      "text/plain": [
       "<AxesSubplot:>"
      ]
     },
     "execution_count": 180,
     "metadata": {},
     "output_type": "execute_result"
    },
    {
     "data": {
      "image/png": "[encoded data removed]",
      "text/plain": [
       "<Figure size 640x480 with 1 Axes>"
      ]
     },
     "metadata": {},
     "output_type": "display_data"
    }
   ],
   "source": [
    "huis1.boxplot()"
   ]
  },
  {
   "cell_type": "code",
   "execution_count": 181,
   "id": "0d49cddb",
   "metadata": {},
   "outputs": [
    {
     "data": {
      "text/plain": [
       "1602.6714419699108"
      ]
     },
     "execution_count": 181,
     "metadata": {},
     "output_type": "execute_result"
    }
   ],
   "source": [
    "huis1['energie_verbruik'].std()"
   ]
  },
  {
   "cell_type": "code",
   "execution_count": 190,
   "id": "0c0e872b",
   "metadata": {},
   "outputs": [
    {
     "data": {
      "text/plain": [
       "5677.82577260274"
      ]
     },
     "execution_count": 190,
     "metadata": {},
     "output_type": "execute_result"
    }
   ],
   "source": [
    "huis1['energie_verbruik'].mean()"
   ]
  },
  {
   "cell_type": "code",
   "execution_count": 182,
   "id": "edb73eba",
   "metadata": {},
   "outputs": [
    {
     "data": {
      "text/plain": [
       "(9442.616, 2611.848)"
      ]
     },
     "execution_count": 182,
     "metadata": {},
     "output_type": "execute_result"
    }
   ],
   "source": [
    "huis1['energie_verbruik'].max(), huis1['energie_verbruik'].min()"
   ]
  },
  {
   "cell_type": "code",
   "execution_count": 189,
   "id": "8f66ab5c",
   "metadata": {},
   "outputs": [],
   "source": [
    "max= np.percentile(huis1['energie_verbruik'], [99])"
   ]
  },
  {
   "cell_type": "code",
   "execution_count": 96,
   "id": "b7d71a10",
   "metadata": {},
   "outputs": [],
   "source": [
    "min= np.percentile(huis1['energie_verbruik'], [1])[0]"
   ]
  },
  {
   "cell_type": "code",
   "execution_count": 71,
   "id": "f577160d",
   "metadata": {},
   "outputs": [],
   "source": [
    "def remove_outliers(x):\n",
    "    if(x>max):\n",
    "        x= max\n",
    "    elif(x<min):\n",
    "        x=min\n",
    "    return x"
   ]
  },
  {
   "cell_type": "code",
   "execution_count": null,
   "id": "c766f597",
   "metadata": {},
   "outputs": [],
   "source": []
  }
 ],
 "metadata": {
  "kernelspec": {
   "display_name": "Python 3 (ipykernel)",
   "language": "python",
   "name": "python3"
  },
  "language_info": {
   "codemirror_mode": {
    "name": "ipython",
    "version": 3
   },
   "file_extension": ".py",
   "mimetype": "text/x-python",
   "name": "python",
   "nbconvert_exporter": "python",
   "pygments_lexer": "ipython3",
   "version": "3.9.15"
  }
 },
 "nbformat": 4,
 "nbformat_minor": 5
}
